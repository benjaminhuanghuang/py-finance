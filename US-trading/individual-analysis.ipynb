{
 "metadata": {
  "language_info": {
   "codemirror_mode": {
    "name": "ipython",
    "version": 3
   },
   "file_extension": ".py",
   "mimetype": "text/x-python",
   "name": "python",
   "nbconvert_exporter": "python",
   "pygments_lexer": "ipython3",
   "version": "3.8.5-final"
  },
  "orig_nbformat": 2,
  "kernelspec": {
   "name": "python3",
   "display_name": "Python 3",
   "language": "python"
  }
 },
 "nbformat": 4,
 "nbformat_minor": 2,
 "cells": [
  {
   "cell_type": "code",
   "execution_count": 7,
   "metadata": {},
   "outputs": [
    {
     "output_type": "stream",
     "name": "stdout",
     "text": [
      "[*********************100%***********************]  1 of 1 completed\n"
     ]
    },
    {
     "output_type": "execute_result",
     "data": {
      "text/plain": [
       "                  Open        High         Low       Close   Adj Close  \\\n",
       "Date                                                                     \n",
       "2020-01-02   74.059998   75.150002   73.797501   75.087502   74.444603   \n",
       "2020-01-03   74.287498   75.144997   74.125000   74.357498   73.720840   \n",
       "2020-01-06   73.447502   74.989998   73.187500   74.949997   74.308266   \n",
       "2020-01-07   74.959999   75.224998   74.370003   74.597504   73.958794   \n",
       "2020-01-08   74.290001   76.110001   74.290001   75.797501   75.148521   \n",
       "...                ...         ...         ...         ...         ...   \n",
       "2021-01-20  128.660004  132.490005  128.550003  132.029999  132.029999   \n",
       "2021-01-21  133.800003  139.669998  133.589996  136.869995  136.869995   \n",
       "2021-01-22  136.279999  139.850006  135.020004  139.070007  139.070007   \n",
       "2021-01-25  143.070007  145.089996  136.539993  142.919998  142.919998   \n",
       "2021-01-26  143.600006  144.300003  141.369995  143.160004  143.160004   \n",
       "\n",
       "               Volume  \n",
       "Date                   \n",
       "2020-01-02  135480400  \n",
       "2020-01-03  146322800  \n",
       "2020-01-06  118387200  \n",
       "2020-01-07  108872000  \n",
       "2020-01-08  132079200  \n",
       "...               ...  \n",
       "2021-01-20  104319500  \n",
       "2021-01-21  120529500  \n",
       "2021-01-22  114459400  \n",
       "2021-01-25  157611700  \n",
       "2021-01-26   98390600  \n",
       "\n",
       "[269 rows x 6 columns]"
      ],
      "text/html": "<div>\n<style scoped>\n    .dataframe tbody tr th:only-of-type {\n        vertical-align: middle;\n    }\n\n    .dataframe tbody tr th {\n        vertical-align: top;\n    }\n\n    .dataframe thead th {\n        text-align: right;\n    }\n</style>\n<table border=\"1\" class=\"dataframe\">\n  <thead>\n    <tr style=\"text-align: right;\">\n      <th></th>\n      <th>Open</th>\n      <th>High</th>\n      <th>Low</th>\n      <th>Close</th>\n      <th>Adj Close</th>\n      <th>Volume</th>\n    </tr>\n    <tr>\n      <th>Date</th>\n      <th></th>\n      <th></th>\n      <th></th>\n      <th></th>\n      <th></th>\n      <th></th>\n    </tr>\n  </thead>\n  <tbody>\n    <tr>\n      <th>2020-01-02</th>\n      <td>74.059998</td>\n      <td>75.150002</td>\n      <td>73.797501</td>\n      <td>75.087502</td>\n      <td>74.444603</td>\n      <td>135480400</td>\n    </tr>\n    <tr>\n      <th>2020-01-03</th>\n      <td>74.287498</td>\n      <td>75.144997</td>\n      <td>74.125000</td>\n      <td>74.357498</td>\n      <td>73.720840</td>\n      <td>146322800</td>\n    </tr>\n    <tr>\n      <th>2020-01-06</th>\n      <td>73.447502</td>\n      <td>74.989998</td>\n      <td>73.187500</td>\n      <td>74.949997</td>\n      <td>74.308266</td>\n      <td>118387200</td>\n    </tr>\n    <tr>\n      <th>2020-01-07</th>\n      <td>74.959999</td>\n      <td>75.224998</td>\n      <td>74.370003</td>\n      <td>74.597504</td>\n      <td>73.958794</td>\n      <td>108872000</td>\n    </tr>\n    <tr>\n      <th>2020-01-08</th>\n      <td>74.290001</td>\n      <td>76.110001</td>\n      <td>74.290001</td>\n      <td>75.797501</td>\n      <td>75.148521</td>\n      <td>132079200</td>\n    </tr>\n    <tr>\n      <th>...</th>\n      <td>...</td>\n      <td>...</td>\n      <td>...</td>\n      <td>...</td>\n      <td>...</td>\n      <td>...</td>\n    </tr>\n    <tr>\n      <th>2021-01-20</th>\n      <td>128.660004</td>\n      <td>132.490005</td>\n      <td>128.550003</td>\n      <td>132.029999</td>\n      <td>132.029999</td>\n      <td>104319500</td>\n    </tr>\n    <tr>\n      <th>2021-01-21</th>\n      <td>133.800003</td>\n      <td>139.669998</td>\n      <td>133.589996</td>\n      <td>136.869995</td>\n      <td>136.869995</td>\n      <td>120529500</td>\n    </tr>\n    <tr>\n      <th>2021-01-22</th>\n      <td>136.279999</td>\n      <td>139.850006</td>\n      <td>135.020004</td>\n      <td>139.070007</td>\n      <td>139.070007</td>\n      <td>114459400</td>\n    </tr>\n    <tr>\n      <th>2021-01-25</th>\n      <td>143.070007</td>\n      <td>145.089996</td>\n      <td>136.539993</td>\n      <td>142.919998</td>\n      <td>142.919998</td>\n      <td>157611700</td>\n    </tr>\n    <tr>\n      <th>2021-01-26</th>\n      <td>143.600006</td>\n      <td>144.300003</td>\n      <td>141.369995</td>\n      <td>143.160004</td>\n      <td>143.160004</td>\n      <td>98390600</td>\n    </tr>\n  </tbody>\n</table>\n<p>269 rows × 6 columns</p>\n</div>"
     },
     "metadata": {},
     "execution_count": 7
    }
   ],
   "source": [
    "import numpy as np\n",
    "import pandas as pd\n",
    "import matplotlib.pyplot as plt\n",
    "\n",
    "import datetime\n",
    "import time\n",
    "import yfinance as yf\n",
    "\n",
    "SYMBOL = 'AAPL'\n",
    "START_DATE = '2020-1-1'\n",
    "END_DATE =  datetime.date.today().isoformat()\n",
    "\n",
    "data = yf.download(SYMBOL, START_DATE, END_DATE)\n",
    "\n",
    "data"
   ]
  },
  {
   "cell_type": "code",
   "execution_count": null,
   "metadata": {},
   "outputs": [],
   "source": []
  }
 ]
}