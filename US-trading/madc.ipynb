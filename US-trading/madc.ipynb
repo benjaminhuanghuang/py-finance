{
 "metadata": {
  "language_info": {
   "codemirror_mode": {
    "name": "ipython",
    "version": 3
   },
   "file_extension": ".py",
   "mimetype": "text/x-python",
   "name": "python",
   "nbconvert_exporter": "python",
   "pygments_lexer": "ipython3",
   "version": "3.8.5-final"
  },
  "orig_nbformat": 2,
  "kernelspec": {
   "name": "python3",
   "display_name": "Python 3",
   "language": "python"
  }
 },
 "nbformat": 4,
 "nbformat_minor": 2,
 "cells": [
  {
   "source": [
    "# MACD (Moving Average Convergence/Divergence) crossover\n",
    "\n",
    "Use MACD to determine when to buy or sell stock"
   ],
   "cell_type": "markdown",
   "metadata": {}
  },
  {
   "cell_type": "code",
   "execution_count": null,
   "metadata": {},
   "outputs": [],
   "source": [
    "from datetime import date, datetime, timedelta\n",
    "\n",
    "import pandas as pd\n",
    "import numpy as np\n",
    "import matplotlib.pyplot as plt\n",
    "\n",
    "import pandas_datareader.data as datareader\n",
    "\n",
    "plt.style.use('fivethirtyeight')\n"
   ]
  },
  {
   "cell_type": "code",
   "execution_count": null,
   "metadata": {},
   "outputs": [],
   "source": [
    "# Load data\n",
    "SYMBOL = 'AAPL'\n",
    "\n",
    "start = datetime.now() - timedelta(days=365)\n",
    "df = datareader.get_data_yahoo(SYMBOL, start=start)\n",
    "## if need, set date to be the index\n",
    "# df = df.set_index(pd.DatetimeIndex(df['Date'].values))\n",
    "  \n",
    "df"
   ]
  },
  {
   "cell_type": "code",
   "execution_count": null,
   "metadata": {},
   "outputs": [],
   "source": [
    "plt.figure(figsize=(12.2, 4.5))\n",
    "plt.plot(df['Close'], label=\"close\")\n",
    "plt.title(\"Close preice history\")\n",
    "plt.xticks(rotation=45)\n",
    "plt.xlabel('Date')\n",
    "plt.ylabel('Price ($)')"
   ]
  },
  {
   "cell_type": "code",
   "execution_count": null,
   "metadata": {},
   "outputs": [],
   "source": [
    "# Calculate the MACF and signal line indicators\n",
    "# Calculate the short term exponential moving average (EMA)\n",
    "\n",
    "ShortEMA = df.Close.ewm(span=12, adjust=False).mean()\n",
    "\n",
    "# Calculate the long term exponential moving average (EMA)\n",
    "LongEMA = df.Close.ewm(span=26, adjust=False).mean()\n",
    "\n",
    "# Calculate the MACD\n",
    "MACD = ShortEMA - LongEMA\n",
    "\n",
    "# Calculate the singal line\n",
    "signal = MACD.ewm(span=9, adjust=False).mean()\n",
    "\n"
   ]
  },
  {
   "cell_type": "code",
   "execution_count": null,
   "metadata": {},
   "outputs": [],
   "source": [
    "plt.figure(figsize=(12.2, 4.5))\n",
    "plt.plot(df.index, MACD, label = 'AAPL MACD', color='red')\n",
    "plt.plot(df.index, signal, label='Signal Line', color='blue')\n",
    "plt.xticks(rotation=45)\n",
    "plt.legend(loc='upper left')"
   ]
  },
  {
   "cell_type": "code",
   "execution_count": null,
   "metadata": {},
   "outputs": [],
   "source": [
    "df['MACD'] = MACD\n",
    "df['Signal Line'] = signal\n"
   ]
  },
  {
   "cell_type": "code",
   "execution_count": null,
   "metadata": {},
   "outputs": [],
   "source": [
    "def buy_sell(signal):\n",
    "    Buy =[]\n",
    "    Sell=[]\n",
    "    flag = -1\n",
    "    for i in range(0, len(signal)):\n",
    "        if signal['MACD'][i] > signal['Signal Line'][i]:\n",
    "            Sell.append(np.nan)\n",
    "            if flag != 1:\n",
    "                Buy.append(signal['Close'][i])\n",
    "                flag = 1\n",
    "            else:\n",
    "                Buy.append(np.nan)\n",
    "        elif signal['MACD'][i] < signal['Signal Line'][i]:\n",
    "            Buy.append(np.nan)\n",
    "            if flag != 0:\n",
    "                Sell.append(signal['Close'][i])\n",
    "                flag = 0\n",
    "            else:\n",
    "                Sell.append(np.nan)\n",
    "        else:\n",
    "            Buy.append(np.nan)\n",
    "            Sell.append(np.nan)\n",
    "    return (Buy, Sell)"
   ]
  },
  {
   "cell_type": "code",
   "execution_count": null,
   "metadata": {},
   "outputs": [],
   "source": [
    "a = buy_sell(df) # (Buy, Sell)\n",
    "df['Buy_Signal_Price'] = a[0]\n",
    "df['Sell_Signal_Price'] = a[1]\n",
    "\n",
    "\n",
    "df"
   ]
  },
  {
   "cell_type": "code",
   "execution_count": null,
   "metadata": {},
   "outputs": [],
   "source": [
    "plt.figure(figsize=(12.2, 4.5))\n",
    "plt.scatter(df.index, df['Buy_Signal_Price'], color='red', label='Buy', marker='^', alpha =1)\n",
    "plt.scatter(df.index, df['Sell_Signal_Price'], color='green', label='Sell', marker='v', alpha =1)\n",
    "\n",
    "plt.plot(df['Close'], label='Close Price', alpha=0.35)\n",
    "plt.title('Close Price Buy & Sell Signals')\n",
    "plt.xticks(rotation=45)\n",
    "plt.legend(loc='upper left')\n",
    "plt.xlabel('Date')\n",
    "plt.ylabel('Close Price ($)')"
   ]
  },
  {
   "cell_type": "code",
   "execution_count": null,
   "metadata": {},
   "outputs": [],
   "source": []
  }
 ]
}