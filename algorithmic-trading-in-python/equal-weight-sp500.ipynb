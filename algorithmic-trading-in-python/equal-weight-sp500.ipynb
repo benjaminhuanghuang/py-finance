{
 "metadata": {
  "language_info": {
   "codemirror_mode": {
    "name": "ipython",
    "version": 3
   },
   "file_extension": ".py",
   "mimetype": "text/x-python",
   "name": "python",
   "nbconvert_exporter": "python",
   "pygments_lexer": "ipython3",
   "version": "3.8.5-final"
  },
  "orig_nbformat": 2,
  "kernelspec": {
   "name": "python3",
   "display_name": "Python 3",
   "language": "python"
  }
 },
 "nbformat": 4,
 "nbformat_minor": 2,
 "cells": [
  {
   "cell_type": "code",
   "execution_count": 2,
   "metadata": {},
   "outputs": [],
   "source": [
    "import numpy as np\n",
    "import pandas as pd\n",
    "import requests\n",
    "import xlsxwriter\n",
    "import math\n",
    "from secrets import IEX_CLOUD_API_TOKEN\n",
    "\n",
    "symbol = 'AAPL'\n",
    "api_url = f\"https://sandbox.iexapis.com/stable/stock/{symbol}/quote/?token={IEX_CLOUD_API_TOKEN}\""
   ]
  },
  {
   "cell_type": "code",
   "execution_count": null,
   "metadata": {},
   "outputs": [],
   "source": [
    "# Adding stocks data to pd dataframe\n",
    "my_columns = ['Ticker', 'Price',\n",
    "              'Market Capitalization', 'Number Of Shares to Buy']\n",
    "final_dataframe = pd.DataFrame(columns=my_columns)\n",
    "final_dataframe\n",
    "\n",
    "final_dataframe = final_dataframe.append(\n",
    "    pd.Series(['AAPL',\n",
    "               data['latestPrice'],\n",
    "               data['marketCap'],\n",
    "               'N/A'],\n",
    "              index=my_columns),\n",
    "    ignore_index=True)\n",
    "\n",
    "print(data)\n",
    "# 505 stocks\n",
    "stocks = pd.read_csv('sp_500_stocks.csv')\n",
    "#\n",
    "pd.DataFrame()"
   ]
  },
  {
   "cell_type": "code",
   "execution_count": 4,
   "metadata": {},
   "outputs": [
    {
     "output_type": "execute_result",
     "data": {
      "text/plain": [
       "{'symbol': 'AAPL',\n",
       " 'companyName': 'Apple Inc',\n",
       " 'primaryExchange': ')QBNSKL A ETCSANGEOELSG(LDAM ART/',\n",
       " 'calculationPrice': 'close',\n",
       " 'open': 149.99,\n",
       " 'openTime': 1682197645260,\n",
       " 'openSource': 'ocaififl',\n",
       " 'close': 143.85,\n",
       " 'closeTime': 1678889291173,\n",
       " 'closeSource': 'oiiflfac',\n",
       " 'high': 148.2,\n",
       " 'highTime': 1686378195322,\n",
       " 'highSource': 'peueidct1i dm5nae eyl r',\n",
       " 'low': 141.96,\n",
       " 'lowTime': 1673738855739,\n",
       " 'lowSource': 'u5l emayic1er ed dptnie',\n",
       " 'latestPrice': 148.84,\n",
       " 'latestSource': 'Close',\n",
       " 'latestTime': 'January 28, 2021',\n",
       " 'latestUpdate': 1676237249531,\n",
       " 'latestVolume': 146761085,\n",
       " 'iexRealtimePrice': 148.78,\n",
       " 'iexRealtimeSize': 10,\n",
       " 'iexLastUpdated': 1656577398294,\n",
       " 'delayedPrice': 147.12,\n",
       " 'delayedPriceTime': 1628617265587,\n",
       " 'oddLotDelayedPrice': 144.12,\n",
       " 'oddLotDelayedPriceTime': 1689079368713,\n",
       " 'extendedPrice': 140.6,\n",
       " 'extendedChange': -4.79,\n",
       " 'extendedChangePercent': -0.0344,\n",
       " 'extendedPriceTime': 1612584217228,\n",
       " 'previousClose': 145.09,\n",
       " 'previousVolume': 142646951,\n",
       " 'change': 0,\n",
       " 'changePercent': 0,\n",
       " 'volume': 141715782,\n",
       " 'iexMarketPercent': 0.014499734240769476,\n",
       " 'iexVolume': 1981716,\n",
       " 'avgTotalVolume': 114951264,\n",
       " 'iexBidPrice': 0,\n",
       " 'iexBidSize': 0,\n",
       " 'iexAskPrice': 0,\n",
       " 'iexAskSize': 0,\n",
       " 'iexOpen': 144.09,\n",
       " 'iexOpenTime': 1620809444831,\n",
       " 'iexClose': 143.9,\n",
       " 'iexCloseTime': 1656626398578,\n",
       " 'marketCap': 2501271289236,\n",
       " 'peRatio': 43.73,\n",
       " 'week52High': 147.4,\n",
       " 'week52Low': 56.23,\n",
       " 'ytdChange': 0.0725682701896196,\n",
       " 'lastTradeTime': 1638490066357,\n",
       " 'isUSMarketOpen': False}"
      ]
     },
     "metadata": {},
     "execution_count": 4
    }
   ],
   "source": [
    "data = requests.get(api_url).json()\n",
    "data"
   ]
  }
 ]
}